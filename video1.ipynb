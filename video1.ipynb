{
 "cells": [
  {
   "cell_type": "markdown",
   "metadata": {},
   "source": [
    "# Start with the name of Allah who is the most benefical and most mercifull"
   ]
  },
  {
   "cell_type": "markdown",
   "metadata": {},
   "source": [
    "1. numpy stands for numerical python\n",
    "2. Developed in 2005 by Travis Oliphant\n",
    "3. Lingua Franca for data exchange (pandas , scipy ,mathplotlib in sab kai liye numpy ana zarrori hai known as lingua franca)\n",
    "4. nd-array a n-dimensional array\n",
    "5. Fast operations on entire arrays\n",
    "6. Linear Algebra Operations (matrix,eigen values and eigen vectors)"
   ]
  },
  {
   "cell_type": "markdown",
   "metadata": {},
   "source": [
    "Q.1) Why Numpy?\n",
    "\n",
    "1. Numpy internally stores data in contiguous block of memory\n",
    "\n",
    "contiguous memory:\n",
    "      bht fast hoote hai, Data eik jaga mill jata hai lekin list or linked-list mai data alaag jaga para hoa hoota hai          \n",
    "1,2,3,4,5,6,7,8,9,10        \n",
    "\n",
    "non contiguous memory:\n",
    "       ye list or array hootay hai jo slow hootay hai\n",
    "       \n",
    "1,4,9\n",
    "\n",
    "2. Complex Computations on entire array\n",
    "\n",
    " some functions for an search as where pre-defined Function"
   ]
  },
  {
   "cell_type": "code",
   "execution_count": 1,
   "metadata": {},
   "outputs": [],
   "source": [
    "import numpy as np"
   ]
  }
 ],
 "metadata": {
  "kernelspec": {
   "display_name": "Python 3",
   "language": "python",
   "name": "python3"
  },
  "language_info": {
   "codemirror_mode": {
    "name": "ipython",
    "version": 3
   },
   "file_extension": ".py",
   "mimetype": "text/x-python",
   "name": "python",
   "nbconvert_exporter": "python",
   "pygments_lexer": "ipython3",
   "version": "3.7.3"
  }
 },
 "nbformat": 4,
 "nbformat_minor": 2
}
