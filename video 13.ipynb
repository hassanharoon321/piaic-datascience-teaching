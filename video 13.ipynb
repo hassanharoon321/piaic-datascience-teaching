{
 "cells": [
  {
   "cell_type": "markdown",
   "metadata": {},
   "source": [
    "# Start with the name of Allah who is the most Benefical and most Mercifull"
   ]
  },
  {
   "cell_type": "markdown",
   "metadata": {},
   "source": [
    "# Topic: Reshape"
   ]
  },
  {
   "cell_type": "code",
   "execution_count": 1,
   "metadata": {},
   "outputs": [],
   "source": [
    "import numpy as np"
   ]
  },
  {
   "cell_type": "code",
   "execution_count": 2,
   "metadata": {},
   "outputs": [],
   "source": [
    "x =np.random.randn(4,5)"
   ]
  },
  {
   "cell_type": "code",
   "execution_count": 3,
   "metadata": {},
   "outputs": [
    {
     "data": {
      "text/plain": [
       "array([[ 0.07503591,  1.83405508, -1.57534776,  0.9627509 , -0.6332034 ],\n",
       "       [-0.61995754,  0.47012465,  0.37609337,  1.39749294, -1.30409074],\n",
       "       [-0.17695078,  0.12251383, -0.58891068, -1.36607618, -0.27182862],\n",
       "       [ 0.76966685,  0.41078715,  0.33701605, -0.69072571,  0.49930658]])"
      ]
     },
     "execution_count": 3,
     "metadata": {},
     "output_type": "execute_result"
    }
   ],
   "source": [
    "x"
   ]
  },
  {
   "cell_type": "code",
   "execution_count": 4,
   "metadata": {},
   "outputs": [
    {
     "data": {
      "text/plain": [
       "array([[[ 0.07503591,  1.83405508, -1.57534776,  0.9627509 ,\n",
       "         -0.6332034 ],\n",
       "        [-0.61995754,  0.47012465,  0.37609337,  1.39749294,\n",
       "         -1.30409074]],\n",
       "\n",
       "       [[-0.17695078,  0.12251383, -0.58891068, -1.36607618,\n",
       "         -0.27182862],\n",
       "        [ 0.76966685,  0.41078715,  0.33701605, -0.69072571,\n",
       "          0.49930658]]])"
      ]
     },
     "execution_count": 4,
     "metadata": {},
     "output_type": "execute_result"
    }
   ],
   "source": [
    "x.reshape(2,2,5)"
   ]
  },
  {
   "cell_type": "code",
   "execution_count": 5,
   "metadata": {},
   "outputs": [
    {
     "data": {
      "text/plain": [
       "array([[[ 0.07503591,  1.83405508, -1.57534776,  0.9627509 ,\n",
       "         -0.6332034 ],\n",
       "        [-0.17695078,  0.12251383, -0.58891068, -1.36607618,\n",
       "         -0.27182862]],\n",
       "\n",
       "       [[-0.61995754,  0.47012465,  0.37609337,  1.39749294,\n",
       "         -1.30409074],\n",
       "        [ 0.76966685,  0.41078715,  0.33701605, -0.69072571,\n",
       "          0.49930658]]])"
      ]
     },
     "execution_count": 5,
     "metadata": {},
     "output_type": "execute_result"
    }
   ],
   "source": [
    "x.reshape((2,2,5),order=\"F\")"
   ]
  },
  {
   "cell_type": "code",
   "execution_count": 6,
   "metadata": {},
   "outputs": [
    {
     "data": {
      "text/plain": [
       "array([[[ 0.07503591,  1.83405508, -1.57534776,  0.9627509 ,\n",
       "         -0.6332034 ],\n",
       "        [-0.61995754,  0.47012465,  0.37609337,  1.39749294,\n",
       "         -1.30409074]],\n",
       "\n",
       "       [[-0.17695078,  0.12251383, -0.58891068, -1.36607618,\n",
       "         -0.27182862],\n",
       "        [ 0.76966685,  0.41078715,  0.33701605, -0.69072571,\n",
       "          0.49930658]]])"
      ]
     },
     "execution_count": 6,
     "metadata": {},
     "output_type": "execute_result"
    }
   ],
   "source": [
    "x.reshape((2,2,-1))"
   ]
  },
  {
   "cell_type": "code",
   "execution_count": 7,
   "metadata": {},
   "outputs": [
    {
     "data": {
      "text/plain": [
       "array([[ 0.07503591,  1.83405508, -1.57534776,  0.9627509 , -0.6332034 ],\n",
       "       [-0.61995754,  0.47012465,  0.37609337,  1.39749294, -1.30409074],\n",
       "       [-0.17695078,  0.12251383, -0.58891068, -1.36607618, -0.27182862],\n",
       "       [ 0.76966685,  0.41078715,  0.33701605, -0.69072571,  0.49930658]])"
      ]
     },
     "execution_count": 7,
     "metadata": {},
     "output_type": "execute_result"
    }
   ],
   "source": [
    "x"
   ]
  },
  {
   "cell_type": "code",
   "execution_count": 8,
   "metadata": {},
   "outputs": [
    {
     "data": {
      "text/plain": [
       "array([ 0.07503591,  1.83405508, -1.57534776,  0.9627509 , -0.6332034 ,\n",
       "       -0.61995754,  0.47012465,  0.37609337,  1.39749294, -1.30409074,\n",
       "       -0.17695078,  0.12251383, -0.58891068, -1.36607618, -0.27182862,\n",
       "        0.76966685,  0.41078715,  0.33701605, -0.69072571,  0.49930658])"
      ]
     },
     "execution_count": 8,
     "metadata": {},
     "output_type": "execute_result"
    }
   ],
   "source": [
    "x.ravel()"
   ]
  },
  {
   "cell_type": "code",
   "execution_count": 9,
   "metadata": {},
   "outputs": [
    {
     "data": {
      "text/plain": [
       "array([ 0.07503591,  1.83405508, -1.57534776,  0.9627509 , -0.6332034 ,\n",
       "       -0.61995754,  0.47012465,  0.37609337,  1.39749294, -1.30409074,\n",
       "       -0.17695078,  0.12251383, -0.58891068, -1.36607618, -0.27182862,\n",
       "        0.76966685,  0.41078715,  0.33701605, -0.69072571,  0.49930658])"
      ]
     },
     "execution_count": 9,
     "metadata": {},
     "output_type": "execute_result"
    }
   ],
   "source": [
    "x.flatten()"
   ]
  }
 ],
 "metadata": {
  "kernelspec": {
   "display_name": "Python 3",
   "language": "python",
   "name": "python3"
  },
  "language_info": {
   "codemirror_mode": {
    "name": "ipython",
    "version": 3
   },
   "file_extension": ".py",
   "mimetype": "text/x-python",
   "name": "python",
   "nbconvert_exporter": "python",
   "pygments_lexer": "ipython3",
   "version": "3.7.3"
  }
 },
 "nbformat": 4,
 "nbformat_minor": 2
}
