{
 "cells": [
  {
   "cell_type": "markdown",
   "metadata": {},
   "source": [
    "# start with the name of Allah most benefical and most Mercifull"
   ]
  },
  {
   "cell_type": "markdown",
   "metadata": {},
   "source": [
    "# Topic: Indexing & Slicing"
   ]
  },
  {
   "cell_type": "markdown",
   "metadata": {},
   "source": [
    "# Acts Similar as python list"
   ]
  },
  {
   "cell_type": "markdown",
   "metadata": {},
   "source": [
    "# Boolean Indexing: Specifying Boolean Arrays as index"
   ]
  },
  {
   "cell_type": "markdown",
   "metadata": {},
   "source": [
    "# Fancy Indexing: Sspecifying Arbitary Arrays as Indexes"
   ]
  },
  {
   "cell_type": "markdown",
   "metadata": {},
   "source": [
    "# Slicing: Array Slicies are views on the orignal way"
   ]
  },
  {
   "cell_type": "code",
   "execution_count": 1,
   "metadata": {},
   "outputs": [],
   "source": [
    "import numpy as np"
   ]
  },
  {
   "cell_type": "code",
   "execution_count": 2,
   "metadata": {},
   "outputs": [],
   "source": [
    "x = np.array([2,3,4,5,6])"
   ]
  },
  {
   "cell_type": "code",
   "execution_count": 3,
   "metadata": {},
   "outputs": [
    {
     "data": {
      "text/plain": [
       "6"
      ]
     },
     "execution_count": 3,
     "metadata": {},
     "output_type": "execute_result"
    }
   ],
   "source": [
    "x[4]"
   ]
  },
  {
   "cell_type": "code",
   "execution_count": 4,
   "metadata": {},
   "outputs": [
    {
     "data": {
      "text/plain": [
       "array([False, False, False, False,  True])"
      ]
     },
     "execution_count": 4,
     "metadata": {},
     "output_type": "execute_result"
    }
   ],
   "source": [
    "x>5"
   ]
  },
  {
   "cell_type": "code",
   "execution_count": 5,
   "metadata": {},
   "outputs": [
    {
     "data": {
      "text/plain": [
       "array([6])"
      ]
     },
     "execution_count": 5,
     "metadata": {},
     "output_type": "execute_result"
    }
   ],
   "source": [
    "x[x>5]"
   ]
  },
  {
   "cell_type": "code",
   "execution_count": 6,
   "metadata": {},
   "outputs": [
    {
     "data": {
      "text/plain": [
       "array([6, 3])"
      ]
     },
     "execution_count": 6,
     "metadata": {},
     "output_type": "execute_result"
    }
   ],
   "source": [
    "x[[4,1]]"
   ]
  },
  {
   "cell_type": "code",
   "execution_count": 8,
   "metadata": {},
   "outputs": [],
   "source": [
    "y = np.random.randn(10,10)"
   ]
  },
  {
   "cell_type": "code",
   "execution_count": 9,
   "metadata": {},
   "outputs": [
    {
     "data": {
      "text/plain": [
       "array([[ 0.26354623, -0.21376075,  1.01685798,  0.14042974,  0.69888751,\n",
       "        -0.84789475,  1.987109  ,  1.01659388,  0.9615795 ,  0.62329579],\n",
       "       [-1.81581044,  1.48913145,  1.26343723,  1.40533814,  0.32510388,\n",
       "         0.02614948, -1.56349387,  0.23446643,  1.07623773,  0.82918481],\n",
       "       [ 0.51361714, -0.12809879, -0.7038037 ,  1.22146548, -1.510688  ,\n",
       "         1.99899841,  0.89059547, -0.12459265,  0.12984315, -0.47307698],\n",
       "       [-0.1331285 ,  0.19153853,  1.74368779,  1.53853664,  0.47900223,\n",
       "        -0.50479836, -1.42205153, -0.60042422, -1.12267381, -0.75291789],\n",
       "       [-0.63482488, -1.62897295, -1.25280921,  0.56777443,  0.85615446,\n",
       "        -0.75444469,  0.63906795, -0.35526556, -0.98277516,  1.19230226],\n",
       "       [ 0.08407748, -1.02546179,  0.38420986,  0.48714747, -0.10107977,\n",
       "         2.74079544, -1.15752534, -1.50582336,  1.95708117, -0.22127395],\n",
       "       [-0.69279658, -0.9273858 , -0.47205012,  1.09749506, -0.88085004,\n",
       "        -0.84841198,  1.60257757,  0.91456793,  0.23865653, -0.9040607 ],\n",
       "       [ 0.42246324,  1.97931183,  0.51704088, -1.29001373,  0.50862165,\n",
       "         0.95988471,  0.46212917,  0.72879176, -0.64043062, -1.22222915],\n",
       "       [ 0.16916025, -0.29562958,  0.45088607, -0.47489817, -0.29086818,\n",
       "        -1.46026416,  0.59036808, -0.24839493, -0.2441571 ,  1.48262454],\n",
       "       [ 0.93170813,  1.54034468, -2.06711112,  0.53285453,  0.1857541 ,\n",
       "         0.23174844, -0.47425653,  1.17109474, -0.88064403,  2.83260796]])"
      ]
     },
     "execution_count": 9,
     "metadata": {},
     "output_type": "execute_result"
    }
   ],
   "source": [
    "y"
   ]
  },
  {
   "cell_type": "code",
   "execution_count": 13,
   "metadata": {},
   "outputs": [
    {
     "data": {
      "text/plain": [
       "0.32510387683067077"
      ]
     },
     "execution_count": 13,
     "metadata": {},
     "output_type": "execute_result"
    }
   ],
   "source": [
    "y[1][4]"
   ]
  },
  {
   "cell_type": "code",
   "execution_count": 14,
   "metadata": {},
   "outputs": [
    {
     "data": {
      "text/plain": [
       "array([[-1.81581044,  1.48913145,  1.26343723,  1.40533814,  0.32510388,\n",
       "         0.02614948, -1.56349387,  0.23446643,  1.07623773,  0.82918481],\n",
       "       [-0.1331285 ,  0.19153853,  1.74368779,  1.53853664,  0.47900223,\n",
       "        -0.50479836, -1.42205153, -0.60042422, -1.12267381, -0.75291789],\n",
       "       [ 0.08407748, -1.02546179,  0.38420986,  0.48714747, -0.10107977,\n",
       "         2.74079544, -1.15752534, -1.50582336,  1.95708117, -0.22127395],\n",
       "       [ 0.42246324,  1.97931183,  0.51704088, -1.29001373,  0.50862165,\n",
       "         0.95988471,  0.46212917,  0.72879176, -0.64043062, -1.22222915],\n",
       "       [ 0.93170813,  1.54034468, -2.06711112,  0.53285453,  0.1857541 ,\n",
       "         0.23174844, -0.47425653,  1.17109474, -0.88064403,  2.83260796]])"
      ]
     },
     "execution_count": 14,
     "metadata": {},
     "output_type": "execute_result"
    }
   ],
   "source": [
    "y[1:10:2]"
   ]
  },
  {
   "cell_type": "code",
   "execution_count": 25,
   "metadata": {},
   "outputs": [],
   "source": [
    "a = np.ones((6,4))"
   ]
  },
  {
   "cell_type": "code",
   "execution_count": 26,
   "metadata": {},
   "outputs": [
    {
     "data": {
      "text/plain": [
       "array([[1., 1., 1., 1.],\n",
       "       [1., 1., 1., 1.],\n",
       "       [1., 1., 1., 1.],\n",
       "       [1., 1., 1., 1.],\n",
       "       [1., 1., 1., 1.],\n",
       "       [1., 1., 1., 1.]])"
      ]
     },
     "execution_count": 26,
     "metadata": {},
     "output_type": "execute_result"
    }
   ],
   "source": [
    "a"
   ]
  },
  {
   "cell_type": "code",
   "execution_count": 27,
   "metadata": {},
   "outputs": [],
   "source": [
    "a[1:-1,1:-1]=0"
   ]
  },
  {
   "cell_type": "code",
   "execution_count": 28,
   "metadata": {},
   "outputs": [
    {
     "data": {
      "text/plain": [
       "array([[1., 1., 1., 1.],\n",
       "       [1., 0., 0., 1.],\n",
       "       [1., 0., 0., 1.],\n",
       "       [1., 0., 0., 1.],\n",
       "       [1., 0., 0., 1.],\n",
       "       [1., 1., 1., 1.]])"
      ]
     },
     "execution_count": 28,
     "metadata": {},
     "output_type": "execute_result"
    }
   ],
   "source": [
    "a"
   ]
  },
  {
   "cell_type": "code",
   "execution_count": null,
   "metadata": {},
   "outputs": [],
   "source": []
  }
 ],
 "metadata": {
  "kernelspec": {
   "display_name": "Python 3",
   "language": "python",
   "name": "python3"
  },
  "language_info": {
   "codemirror_mode": {
    "name": "ipython",
    "version": 3
   },
   "file_extension": ".py",
   "mimetype": "text/x-python",
   "name": "python",
   "nbconvert_exporter": "python",
   "pygments_lexer": "ipython3",
   "version": "3.7.3"
  }
 },
 "nbformat": 4,
 "nbformat_minor": 2
}
